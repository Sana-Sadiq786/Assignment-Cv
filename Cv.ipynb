{
 "cells": [
  {
   "cell_type": "markdown",
   "id": "5c751edb-cd98-4b2f-9f02-40840ec3e677",
   "metadata": {},
   "source": [
    "# **Sana Sadiq**\n",
    "0303-4031906 | msdsf23m021@pucit.edu.pk | Awan Town, Lahore"
   ]
  },
  {
   "cell_type": "markdown",
   "id": "4e06e726-ee94-41f0-a69e-796b369b7bbe",
   "metadata": {},
   "source": [
    "#### **Profile**\n",
    "> I am mature and enthusiastic individual believes in snaking up my ladder \r\n",
    "with honesty and hard work. My educational qualifications have equipped \r\n",
    "me with the ability to perform my job professionally. I would like to work \r\n",
    "with an organization giving me opportunities to explore the wor\n",
    "#### **Objective**\n",
    "> To serve an organization, that appreciates the efforts, polishes abilities and skills, and encourages participation in terms of innovative ideas. I want to achieve a well-known position in my career through hard work, sincerity and dedication. ld."
   ]
  },
  {
   "cell_type": "markdown",
   "id": "4d60b9ce-aec0-4762-a652-fbcd1334b8dc",
   "metadata": {},
   "source": [
    "### **Educational Background**\n",
    "- **Mphil Data Science**\n",
    "    - (2023-Continue) University of the Punjab, Lahore\n",
    "- **BS Computer Science**\n",
    "    - (2019-2023) University of South Asia, Raiwind Road, Lahore\n",
    "- **Intermediate in Computer Science**\n",
    "    - (2017-2019) Govt Degree College Marghazar Colony, Lahore\n",
    "- **Matric in Science**\n",
    "    - (2017-2015) Govt Girls High School, Kharak Multan Road, Lahore"
   ]
  },
  {
   "cell_type": "markdown",
   "id": "9f28b6c2-ac98-415f-b8c1-2e38a117c5fb",
   "metadata": {},
   "source": [
    "### **Experience**\n",
    "- **Angular Internship:** Internship in Angular from Cinnova Technologies, Johar Town, Lahore\n",
    "    - **3.5 Months** (January-2023 - May-2023) \n",
    "- **Teaching:** Teaching Experience in Home\n",
    "    - **2 Years** (2022-2023) "
   ]
  },
  {
   "cell_type": "markdown",
   "id": "3979e78f-5c9c-49d1-a7cf-3bc4881e360f",
   "metadata": {},
   "source": [
    "### **Skills**\n",
    "1. Web Development in **Angular**\n",
    "2. Beginner's Level **WordPress**"
   ]
  },
  {
   "cell_type": "markdown",
   "id": "c79b7725-e30e-4bec-8a97-9a84ead3e549",
   "metadata": {},
   "source": [
    "### **Academic Projects**\n",
    "1. Charity Based Website **Kaar-e-Khair (FYP)**\n",
    "2. Student Admission Service (Website-Front-end)\n",
    "3. Case Study of SDLC Model (SE) \n",
    "4. Restaurant Management System (database) "
   ]
  },
  {
   "cell_type": "markdown",
   "id": "8d0ee915-7cac-4d09-a68f-cf04fce51dc4",
   "metadata": {},
   "source": []
  }
 ],
 "metadata": {
  "kernelspec": {
   "display_name": "Python 3 (ipykernel)",
   "language": "python",
   "name": "python3"
  },
  "language_info": {
   "codemirror_mode": {
    "name": "ipython",
    "version": 3
   },
   "file_extension": ".py",
   "mimetype": "text/x-python",
   "name": "python",
   "nbconvert_exporter": "python",
   "pygments_lexer": "ipython3",
   "version": "3.12.0"
  }
 },
 "nbformat": 4,
 "nbformat_minor": 5
}
